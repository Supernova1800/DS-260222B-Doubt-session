{
 "cells": [
  {
   "cell_type": "markdown",
   "id": "2deb5414",
   "metadata": {},
   "source": [
    "https://www.hackerrank.com/challenges/nested-list/problem?isFullScreen=true\n",
    "\n",
    "https://www.hackerrank.com/challenges/find-second-maximum-number-in-a-list/problem?isFullScreen=true\n",
    "\n",
    "https://www.hackerrank.com/challenges/capitalize/problem\n",
    "\n",
    "sorted\n",
    "\n",
    "#adding two lists by joining all the numbers in the list\n",
    "\n",
    "#finding median of two sorted lists.\n",
    "\n",
    "Amstong number \n",
    "\n",
    "prime number\n",
    "\n",
    "#number of additions to Make Parentheses Valid\n",
    "\n",
    "reverse a number (% and /)\n",
    "\n",
    "swap two numbers with out using third variable"
   ]
  },
  {
   "cell_type": "markdown",
   "id": "882d3c29",
   "metadata": {},
   "source": [
    "Sir, how to take input from user for this list\n",
    "l = [(1,2),(8,9),(4,5),(7,6)]"
   ]
  },
  {
   "cell_type": "markdown",
   "id": "58d7b6cb",
   "metadata": {},
   "source": [
    "lst = []"
   ]
  },
  {
   "cell_type": "markdown",
   "id": "ddffc3c0",
   "metadata": {},
   "source": [
    "How to take input list from user"
   ]
  },
  {
   "cell_type": "code",
   "execution_count": 1,
   "id": "ca1d3358",
   "metadata": {
    "scrolled": true
   },
   "outputs": [
    {
     "name": "stdout",
     "output_type": "stream",
     "text": [
      "1\n",
      "2\n",
      "3\n",
      "4\n",
      "5\n",
      "6\n",
      "7\n",
      "8\n",
      "9\n",
      "10\n",
      "[1, 2, 3, 4, 5, 6, 7, 8, 9, 10]\n"
     ]
    }
   ],
   "source": [
    "n = 10\n",
    "lst = []\n",
    "for i in range(n):\n",
    "    x =int(input())\n",
    "    lst.append(x)\n",
    "print(lst)"
   ]
  },
  {
   "cell_type": "code",
   "execution_count": null,
   "id": "103e135f",
   "metadata": {},
   "outputs": [],
   "source": [
    "n = 5\n",
    "input = 4 2 35 8 9"
   ]
  },
  {
   "cell_type": "code",
   "execution_count": 2,
   "id": "d797ed20",
   "metadata": {
    "scrolled": true
   },
   "outputs": [
    {
     "name": "stdout",
     "output_type": "stream",
     "text": [
      "4 2 35 8 9\n"
     ]
    }
   ],
   "source": [
    "ls = list(map(int,input().split(\" \")))"
   ]
  },
  {
   "cell_type": "code",
   "execution_count": 3,
   "id": "a72b9d39",
   "metadata": {
    "scrolled": false
   },
   "outputs": [
    {
     "data": {
      "text/plain": [
       "[4, 2, 35, 8, 9]"
      ]
     },
     "execution_count": 3,
     "metadata": {},
     "output_type": "execute_result"
    }
   ],
   "source": [
    "ls"
   ]
  },
  {
   "cell_type": "code",
   "execution_count": 4,
   "id": "8cef30e3",
   "metadata": {
    "scrolled": true
   },
   "outputs": [
    {
     "name": "stdout",
     "output_type": "stream",
     "text": [
      "(1,2),(8,9),(4,5),(7,6)\n"
     ]
    },
    {
     "ename": "ValueError",
     "evalue": "invalid literal for int() with base 10: '(1,2),(8,9),(4,5),(7,6)'",
     "output_type": "error",
     "traceback": [
      "\u001b[1;31m---------------------------------------------------------------------------\u001b[0m",
      "\u001b[1;31mValueError\u001b[0m                                Traceback (most recent call last)",
      "\u001b[1;32m~\\AppData\\Local\\Temp/ipykernel_3744/1276075242.py\u001b[0m in \u001b[0;36m<module>\u001b[1;34m\u001b[0m\n\u001b[1;32m----> 1\u001b[1;33m \u001b[0mls1\u001b[0m \u001b[1;33m=\u001b[0m \u001b[0mlist\u001b[0m\u001b[1;33m(\u001b[0m\u001b[0mmap\u001b[0m\u001b[1;33m(\u001b[0m\u001b[0mint\u001b[0m\u001b[1;33m,\u001b[0m\u001b[0minput\u001b[0m\u001b[1;33m(\u001b[0m\u001b[1;33m)\u001b[0m\u001b[1;33m.\u001b[0m\u001b[0msplit\u001b[0m\u001b[1;33m(\u001b[0m\u001b[1;34m\" \"\u001b[0m\u001b[1;33m)\u001b[0m\u001b[1;33m)\u001b[0m\u001b[1;33m)\u001b[0m\u001b[1;33m\u001b[0m\u001b[1;33m\u001b[0m\u001b[0m\n\u001b[0m",
      "\u001b[1;31mValueError\u001b[0m: invalid literal for int() with base 10: '(1,2),(8,9),(4,5),(7,6)'"
     ]
    }
   ],
   "source": [
    "ls1 = list(map(int,input().split(\" \")))"
   ]
  },
  {
   "cell_type": "code",
   "execution_count": 5,
   "id": "5f3da6b0",
   "metadata": {
    "scrolled": true
   },
   "outputs": [
    {
     "name": "stdout",
     "output_type": "stream",
     "text": [
      "(1,2),(8,9),(4,5),(7,6)\n"
     ]
    },
    {
     "ename": "ValueError",
     "evalue": "invalid literal for int() with base 10: '(1'",
     "output_type": "error",
     "traceback": [
      "\u001b[1;31m---------------------------------------------------------------------------\u001b[0m",
      "\u001b[1;31mValueError\u001b[0m                                Traceback (most recent call last)",
      "\u001b[1;32m~\\AppData\\Local\\Temp/ipykernel_3744/4033436679.py\u001b[0m in \u001b[0;36m<module>\u001b[1;34m\u001b[0m\n\u001b[1;32m----> 1\u001b[1;33m \u001b[0mls1\u001b[0m \u001b[1;33m=\u001b[0m \u001b[0mlist\u001b[0m\u001b[1;33m(\u001b[0m\u001b[0mmap\u001b[0m\u001b[1;33m(\u001b[0m\u001b[0mint\u001b[0m\u001b[1;33m,\u001b[0m\u001b[0minput\u001b[0m\u001b[1;33m(\u001b[0m\u001b[1;33m)\u001b[0m\u001b[1;33m.\u001b[0m\u001b[0msplit\u001b[0m\u001b[1;33m(\u001b[0m\u001b[1;34m\",\"\u001b[0m\u001b[1;33m)\u001b[0m\u001b[1;33m)\u001b[0m\u001b[1;33m)\u001b[0m\u001b[1;33m\u001b[0m\u001b[1;33m\u001b[0m\u001b[0m\n\u001b[0m",
      "\u001b[1;31mValueError\u001b[0m: invalid literal for int() with base 10: '(1'"
     ]
    }
   ],
   "source": [
    "ls1 = list(map(int,input().split(\",\")))"
   ]
  },
  {
   "cell_type": "code",
   "execution_count": 1,
   "id": "7b493045",
   "metadata": {},
   "outputs": [
    {
     "name": "stdout",
     "output_type": "stream",
     "text": [
      "1\n",
      "2\n",
      "3\n",
      "4\n",
      "5\n",
      "6\n",
      "7\n",
      "8\n"
     ]
    },
    {
     "data": {
      "text/plain": [
       "[[1, 2], [3, 4], [5, 6], [7, 8]]"
      ]
     },
     "execution_count": 1,
     "metadata": {},
     "output_type": "execute_result"
    }
   ],
   "source": [
    "n = 4\n",
    "lst = []\n",
    "for i in range(4):\n",
    "  t =[]\n",
    "  for j in range(2):\n",
    "    x = int(input())\n",
    "    t.append(x)\n",
    "  lst.append(t)\n",
    "lst"
   ]
  },
  {
   "cell_type": "code",
   "execution_count": null,
   "id": "6050a9d9",
   "metadata": {},
   "outputs": [],
   "source": [
    "[(1,2),(8,9),(4,5),(7,6)]"
   ]
  },
  {
   "cell_type": "markdown",
   "id": "21f65f46",
   "metadata": {},
   "source": [
    "Runner up score:\n",
    "\n",
    "class 5:\n",
    "[12,20,5,0,16]"
   ]
  },
  {
   "cell_type": "code",
   "execution_count": 6,
   "id": "9387f6a1",
   "metadata": {
    "scrolled": true
   },
   "outputs": [
    {
     "name": "stdout",
     "output_type": "stream",
     "text": [
      "12,20,5,0,16\n"
     ]
    }
   ],
   "source": [
    "lst = list(map(int,input().split(\",\")))"
   ]
  },
  {
   "cell_type": "code",
   "execution_count": 7,
   "id": "b4cc2691",
   "metadata": {
    "scrolled": true
   },
   "outputs": [
    {
     "data": {
      "text/plain": [
       "[12, 20, 5, 0, 16]"
      ]
     },
     "execution_count": 7,
     "metadata": {},
     "output_type": "execute_result"
    }
   ],
   "source": [
    "lst"
   ]
  },
  {
   "cell_type": "code",
   "execution_count": 9,
   "id": "daecaa59",
   "metadata": {
    "scrolled": true
   },
   "outputs": [
    {
     "data": {
      "text/plain": [
       "16"
      ]
     },
     "execution_count": 9,
     "metadata": {},
     "output_type": "execute_result"
    }
   ],
   "source": [
    "lst.sort()\n",
    "lst[-2]"
   ]
  },
  {
   "cell_type": "code",
   "execution_count": null,
   "id": "6060f449",
   "metadata": {},
   "outputs": [],
   "source": [
    "12, 20, 5, 0, 16, 20"
   ]
  },
  {
   "cell_type": "code",
   "execution_count": 10,
   "id": "eccbcfe2",
   "metadata": {
    "scrolled": false
   },
   "outputs": [
    {
     "name": "stdout",
     "output_type": "stream",
     "text": [
      "12, 20, 5, 0, 16, 20\n"
     ]
    },
    {
     "data": {
      "text/plain": [
       "20"
      ]
     },
     "execution_count": 10,
     "metadata": {},
     "output_type": "execute_result"
    }
   ],
   "source": [
    "lst = list(map(int,input().split(\",\")))\n",
    "lst.sort()\n",
    "lst[-2]"
   ]
  },
  {
   "cell_type": "code",
   "execution_count": null,
   "id": "2dacd781",
   "metadata": {},
   "outputs": [],
   "source": [
    "12, 20, 5, 0, 16, 20"
   ]
  },
  {
   "cell_type": "code",
   "execution_count": 11,
   "id": "1320cbb3",
   "metadata": {
    "scrolled": false
   },
   "outputs": [
    {
     "name": "stdout",
     "output_type": "stream",
     "text": [
      "12, 20, 5, 0, 16, 20\n"
     ]
    },
    {
     "data": {
      "text/plain": [
       "16"
      ]
     },
     "execution_count": 11,
     "metadata": {},
     "output_type": "execute_result"
    }
   ],
   "source": [
    "lst1 = list(map(int,input().split(\",\")))\n",
    "lst1 = list(set(lst1))\n",
    "lst1.sort()\n",
    "lst1[-2]"
   ]
  },
  {
   "cell_type": "code",
   "execution_count": null,
   "id": "c12ca0dd",
   "metadata": {},
   "outputs": [],
   "source": [
    "input : chris alan\n",
    "output : Chris Alan"
   ]
  },
  {
   "cell_type": "code",
   "execution_count": 12,
   "id": "13b446a3",
   "metadata": {
    "scrolled": true
   },
   "outputs": [
    {
     "name": "stdout",
     "output_type": "stream",
     "text": [
      "Chris Alan\n"
     ]
    }
   ],
   "source": [
    "a = \"chris alan\"\n",
    "b=a.title()\n",
    "print(b)"
   ]
  },
  {
   "cell_type": "code",
   "execution_count": 18,
   "id": "9fa41351",
   "metadata": {},
   "outputs": [
    {
     "data": {
      "text/plain": [
       "'Acb'"
      ]
     },
     "execution_count": 18,
     "metadata": {},
     "output_type": "execute_result"
    }
   ],
   "source": [
    "s =\"acb\"\n",
    "s = s.capitalize()\n",
    "s"
   ]
  },
  {
   "cell_type": "code",
   "execution_count": 19,
   "id": "4f57506b",
   "metadata": {
    "scrolled": true
   },
   "outputs": [
    {
     "name": "stdout",
     "output_type": "stream",
     "text": [
      "SHARON\n"
     ]
    }
   ],
   "source": [
    "a=\"sharon\"\n",
    "b=a.upper()\n",
    "print(b)"
   ]
  },
  {
   "cell_type": "code",
   "execution_count": null,
   "id": "1cfd1ecc",
   "metadata": {},
   "outputs": [],
   "source": [
    "prime and amstrong"
   ]
  },
  {
   "cell_type": "code",
   "execution_count": 20,
   "id": "ea049d65",
   "metadata": {
    "scrolled": true
   },
   "outputs": [
    {
     "name": "stdout",
     "output_type": "stream",
     "text": [
      "123\n"
     ]
    },
    {
     "data": {
      "text/plain": [
       "'123'"
      ]
     },
     "execution_count": 20,
     "metadata": {},
     "output_type": "execute_result"
    }
   ],
   "source": [
    "a =input()\n",
    "a"
   ]
  },
  {
   "cell_type": "code",
   "execution_count": 30,
   "id": "d1b00d07",
   "metadata": {},
   "outputs": [
    {
     "name": "stdout",
     "output_type": "stream",
     "text": [
      "amstrong number\n"
     ]
    }
   ],
   "source": [
    "import math\n",
    "a=\"1634\"\n",
    "s =0\n",
    "for i in a:\n",
    "    x = int(i)\n",
    "    s+=(int(i)**(len(a)))\n",
    "if s == int(a):\n",
    "    print(\"amstrong number\")\n",
    "else:\n",
    "    print(\"not amstrong number\")"
   ]
  },
  {
   "cell_type": "code",
   "execution_count": null,
   "id": "7e5dfcaf",
   "metadata": {},
   "outputs": [],
   "source": [
    "practice prime number programme"
   ]
  },
  {
   "cell_type": "code",
   "execution_count": 32,
   "id": "73b8fd56",
   "metadata": {},
   "outputs": [],
   "source": [
    "s = 123456"
   ]
  },
  {
   "cell_type": "code",
   "execution_count": 40,
   "id": "07bac91a",
   "metadata": {
    "scrolled": true
   },
   "outputs": [
    {
     "data": {
      "text/plain": [
       "1"
      ]
     },
     "execution_count": 40,
     "metadata": {},
     "output_type": "execute_result"
    }
   ],
   "source": [
    "s//100000"
   ]
  },
  {
   "cell_type": "code",
   "execution_count": null,
   "id": "b95122db",
   "metadata": {},
   "outputs": [],
   "source": [
    "123\n",
    "321 without using string"
   ]
  },
  {
   "cell_type": "markdown",
   "id": "e2484f66",
   "metadata": {},
   "source": [
    "take time up to 8:11 pm"
   ]
  },
  {
   "cell_type": "code",
   "execution_count": 42,
   "id": "a87bf8c2",
   "metadata": {
    "scrolled": true
   },
   "outputs": [
    {
     "name": "stdout",
     "output_type": "stream",
     "text": [
      "3 2 1\n"
     ]
    }
   ],
   "source": [
    "s=123\n",
    "print((s%10),(s%100)//10,(s%1000)//100)"
   ]
  },
  {
   "cell_type": "code",
   "execution_count": 45,
   "id": "938136a0",
   "metadata": {
    "scrolled": false
   },
   "outputs": [
    {
     "ename": "TypeError",
     "evalue": "'>' not supported between instances of 'str' and 'int'",
     "output_type": "error",
     "traceback": [
      "\u001b[1;31m---------------------------------------------------------------------------\u001b[0m",
      "\u001b[1;31mTypeError\u001b[0m                                 Traceback (most recent call last)",
      "\u001b[1;32m~\\AppData\\Local\\Temp/ipykernel_3744/2992484122.py\u001b[0m in \u001b[0;36m<module>\u001b[1;34m\u001b[0m\n\u001b[0;32m      1\u001b[0m \u001b[0ma\u001b[0m\u001b[1;33m=\u001b[0m\u001b[1;36m123\u001b[0m\u001b[1;33m\u001b[0m\u001b[1;33m\u001b[0m\u001b[0m\n\u001b[1;32m----> 2\u001b[1;33m \u001b[1;32mwhile\u001b[0m \u001b[0mi\u001b[0m \u001b[1;33m>\u001b[0m\u001b[1;36m3\u001b[0m\u001b[1;33m:\u001b[0m\u001b[1;33m\u001b[0m\u001b[1;33m\u001b[0m\u001b[0m\n\u001b[0m\u001b[0;32m      3\u001b[0m     \u001b[0mx\u001b[0m\u001b[1;33m=\u001b[0m\u001b[0ma\u001b[0m\u001b[1;33m%\u001b[0m\u001b[1;36m10\u001b[0m\u001b[1;33m\u001b[0m\u001b[1;33m\u001b[0m\u001b[0m\n\u001b[0;32m      4\u001b[0m     \u001b[0mprint\u001b[0m\u001b[1;33m(\u001b[0m\u001b[0mx\u001b[0m\u001b[1;33m)\u001b[0m\u001b[1;33m\u001b[0m\u001b[1;33m\u001b[0m\u001b[0m\n",
      "\u001b[1;31mTypeError\u001b[0m: '>' not supported between instances of 'str' and 'int'"
     ]
    }
   ],
   "source": [
    "a=123\n",
    "while i>3:\n",
    "    x=a%10\n",
    "    print(x)"
   ]
  },
  {
   "cell_type": "code",
   "execution_count": 46,
   "id": "5c4631ba",
   "metadata": {
    "scrolled": true
   },
   "outputs": [
    {
     "name": "stdout",
     "output_type": "stream",
     "text": [
      "4321\n"
     ]
    }
   ],
   "source": [
    "n = 1234\n",
    "r = 0\n",
    "while(n>0):\n",
    "    a = n%10\n",
    "    r = r*10+a\n",
    "    n =n//10\n",
    "print(r)"
   ]
  },
  {
   "cell_type": "code",
   "execution_count": 47,
   "id": "34432670",
   "metadata": {
    "scrolled": false
   },
   "outputs": [
    {
     "data": {
      "text/plain": [
       "4"
      ]
     },
     "execution_count": 47,
     "metadata": {},
     "output_type": "execute_result"
    }
   ],
   "source": [
    "0*10 +4"
   ]
  },
  {
   "cell_type": "code",
   "execution_count": 48,
   "id": "55939fe3",
   "metadata": {},
   "outputs": [
    {
     "data": {
      "text/plain": [
       "43"
      ]
     },
     "execution_count": 48,
     "metadata": {},
     "output_type": "execute_result"
    }
   ],
   "source": [
    "4*10 +3 "
   ]
  },
  {
   "cell_type": "code",
   "execution_count": null,
   "id": "8275988d",
   "metadata": {},
   "outputs": [],
   "source": [
    "r1 = 4\n",
    "r2 = 43"
   ]
  },
  {
   "cell_type": "code",
   "execution_count": 52,
   "id": "bbda9922",
   "metadata": {
    "scrolled": true
   },
   "outputs": [
    {
     "data": {
      "text/plain": [
       "15"
      ]
     },
     "execution_count": 52,
     "metadata": {},
     "output_type": "execute_result"
    }
   ],
   "source": [
    "1 *10 +5"
   ]
  },
  {
   "cell_type": "code",
   "execution_count": 51,
   "id": "f6e1efa6",
   "metadata": {
    "scrolled": true
   },
   "outputs": [
    {
     "data": {
      "text/plain": [
       "5"
      ]
     },
     "execution_count": 51,
     "metadata": {},
     "output_type": "execute_result"
    }
   ],
   "source": [
    "0+5"
   ]
  },
  {
   "cell_type": "code",
   "execution_count": 54,
   "id": "20ff1cf2",
   "metadata": {
    "scrolled": true
   },
   "outputs": [
    {
     "name": "stdout",
     "output_type": "stream",
     "text": [
      "321\n"
     ]
    }
   ],
   "source": [
    "a[::-1]"
   ]
  },
  {
   "cell_type": "code",
   "execution_count": null,
   "id": "c642eeba",
   "metadata": {},
   "outputs": [],
   "source": [
    "a=5\n",
    "b=6\n",
    "\n",
    "a=6\n",
    "b=5\n",
    "\n",
    "with out using tempory variable and also dont a,b =b,a"
   ]
  },
  {
   "cell_type": "code",
   "execution_count": 55,
   "id": "26aba808",
   "metadata": {
    "scrolled": true
   },
   "outputs": [
    {
     "name": "stdout",
     "output_type": "stream",
     "text": [
      "6 5\n"
     ]
    }
   ],
   "source": [
    "a = 5\n",
    "b = 6\n",
    "a = a+b\n",
    "b = a-b\n",
    "a = a-b\n",
    "print(a,b)"
   ]
  },
  {
   "cell_type": "code",
   "execution_count": 59,
   "id": "749223af",
   "metadata": {},
   "outputs": [],
   "source": [
    "a,b =5,6"
   ]
  },
  {
   "cell_type": "code",
   "execution_count": 60,
   "id": "b06af22c",
   "metadata": {
    "scrolled": true
   },
   "outputs": [
    {
     "data": {
      "text/plain": [
       "11"
      ]
     },
     "execution_count": 60,
     "metadata": {},
     "output_type": "execute_result"
    }
   ],
   "source": [
    "a = a+b\n",
    "a"
   ]
  },
  {
   "cell_type": "code",
   "execution_count": 61,
   "id": "e869a0c6",
   "metadata": {
    "scrolled": true
   },
   "outputs": [
    {
     "data": {
      "text/plain": [
       "5"
      ]
     },
     "execution_count": 61,
     "metadata": {},
     "output_type": "execute_result"
    }
   ],
   "source": [
    "b = a-b\n",
    "b"
   ]
  },
  {
   "cell_type": "code",
   "execution_count": 62,
   "id": "e2e6545c",
   "metadata": {
    "scrolled": true
   },
   "outputs": [
    {
     "data": {
      "text/plain": [
       "6"
      ]
     },
     "execution_count": 62,
     "metadata": {},
     "output_type": "execute_result"
    }
   ],
   "source": [
    "a = a-b\n",
    "a"
   ]
  },
  {
   "cell_type": "code",
   "execution_count": null,
   "id": "ab7119b1",
   "metadata": {},
   "outputs": [],
   "source": [
    "a+b =su\n",
    "a = su-a\n",
    "b = su-a"
   ]
  },
  {
   "cell_type": "code",
   "execution_count": 66,
   "id": "28f1ee1d",
   "metadata": {
    "scrolled": true
   },
   "outputs": [
    {
     "name": "stdout",
     "output_type": "stream",
     "text": [
      "312\n",
      "21\n",
      "10\n"
     ]
    }
   ],
   "source": [
    "a=123\n",
    "i=0\n",
    "while i < 3:\n",
    "    print(a%10,end=\"\")\n",
    "    print(a//10)\n",
    "    a//=10\n",
    "    i+=1"
   ]
  },
  {
   "cell_type": "code",
   "execution_count": 68,
   "id": "b36f861d",
   "metadata": {
    "scrolled": true
   },
   "outputs": [
    {
     "data": {
      "text/plain": [
       "3"
      ]
     },
     "execution_count": 68,
     "metadata": {},
     "output_type": "execute_result"
    }
   ],
   "source": [
    "n =123\n",
    "n%10 #gives last digit\n",
    "n//10 #removes last digit"
   ]
  },
  {
   "cell_type": "code",
   "execution_count": 72,
   "id": "7aa088b6",
   "metadata": {
    "scrolled": true
   },
   "outputs": [
    {
     "name": "stdout",
     "output_type": "stream",
     "text": [
      "{'one': 1, 'two': 2, 'three': 3}\n",
      "<class 'dict'>\n"
     ]
    }
   ],
   "source": [
    "d ={\"one\":1,\"two\":2,\"three\":3}\n",
    "print(d)\n",
    "print(type(d))"
   ]
  },
  {
   "cell_type": "code",
   "execution_count": 73,
   "id": "88364e52",
   "metadata": {
    "scrolled": true
   },
   "outputs": [
    {
     "data": {
      "text/plain": [
       "dict_items([('one', 1), ('two', 2), ('three', 3)])"
      ]
     },
     "execution_count": 73,
     "metadata": {},
     "output_type": "execute_result"
    }
   ],
   "source": [
    "d.items()"
   ]
  },
  {
   "cell_type": "code",
   "execution_count": 74,
   "id": "1383af08",
   "metadata": {
    "scrolled": true
   },
   "outputs": [
    {
     "data": {
      "text/plain": [
       "dict_values([1, 2, 3])"
      ]
     },
     "execution_count": 74,
     "metadata": {},
     "output_type": "execute_result"
    }
   ],
   "source": [
    "d.values()"
   ]
  },
  {
   "cell_type": "code",
   "execution_count": 76,
   "id": "534c3282",
   "metadata": {
    "scrolled": true
   },
   "outputs": [
    {
     "data": {
      "text/plain": [
       "dict_keys(['one', 'two', 'three'])"
      ]
     },
     "execution_count": 76,
     "metadata": {},
     "output_type": "execute_result"
    }
   ],
   "source": [
    "d.keys()"
   ]
  },
  {
   "cell_type": "code",
   "execution_count": 77,
   "id": "9cadd6cc",
   "metadata": {},
   "outputs": [],
   "source": [
    "#finding median of two sorted lists."
   ]
  },
  {
   "cell_type": "code",
   "execution_count": null,
   "id": "5752c6b2",
   "metadata": {},
   "outputs": [],
   "source": [
    "[1 2 3 4 5 6 7 8]"
   ]
  },
  {
   "cell_type": "code",
   "execution_count": 79,
   "id": "e94c73fe",
   "metadata": {
    "scrolled": true
   },
   "outputs": [
    {
     "data": {
      "text/plain": [
       "4.5"
      ]
     },
     "execution_count": 79,
     "metadata": {},
     "output_type": "execute_result"
    }
   ],
   "source": [
    "(4+5)/2"
   ]
  },
  {
   "cell_type": "code",
   "execution_count": 81,
   "id": "ca3d235f",
   "metadata": {},
   "outputs": [],
   "source": [
    "l1 = [1,2,3]\n",
    "l2 = [4,5,6]"
   ]
  },
  {
   "cell_type": "code",
   "execution_count": 84,
   "id": "dbf9451f",
   "metadata": {
    "scrolled": false
   },
   "outputs": [
    {
     "data": {
      "text/plain": [
       "[1, 2, 3, 4, 5, 6]"
      ]
     },
     "execution_count": 84,
     "metadata": {},
     "output_type": "execute_result"
    }
   ],
   "source": [
    "lst = l1+l2\n",
    "lst"
   ]
  },
  {
   "cell_type": "raw",
   "id": "004d3d45",
   "metadata": {},
   "source": [
    "if even:\n",
    "(lst[len(lst)/2] + lst[len(lst)/2-1] )/2\n",
    "if odd:\n",
    "len(lst)/2"
   ]
  }
 ],
 "metadata": {
  "kernelspec": {
   "display_name": "Python 3 (ipykernel)",
   "language": "python",
   "name": "python3"
  },
  "language_info": {
   "codemirror_mode": {
    "name": "ipython",
    "version": 3
   },
   "file_extension": ".py",
   "mimetype": "text/x-python",
   "name": "python",
   "nbconvert_exporter": "python",
   "pygments_lexer": "ipython3",
   "version": "3.9.7"
  }
 },
 "nbformat": 4,
 "nbformat_minor": 5
}
